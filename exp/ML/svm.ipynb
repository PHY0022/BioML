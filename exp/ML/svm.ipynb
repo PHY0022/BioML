{
 "cells": [
  {
   "cell_type": "markdown",
   "metadata": {},
   "source": [
    "# BioML: Model Training Experiment - SVM\n",
    "\n",
    "Computational Identification of Protein Phosphorylation Sites"
   ]
  },
  {
   "cell_type": "code",
   "execution_count": null,
   "metadata": {},
   "outputs": [],
   "source": [
    "import sys\n",
    "import os\n",
    "\n",
    "# To import lib from grandparent directory\n",
    "current_dir = os.path.dirname(os.path.abspath(__file__))\n",
    "grandparent_dir = os.path.abspath( os.path.join(current_dir, \"../../\") )\n",
    "sys.path.append(grandparent_dir)"
   ]
  }
 ],
 "metadata": {
  "kernelspec": {
   "display_name": "Python 3",
   "language": "python",
   "name": "python3"
  },
  "language_info": {
   "name": "python",
   "version": "3.11.5"
  }
 },
 "nbformat": 4,
 "nbformat_minor": 2
}
