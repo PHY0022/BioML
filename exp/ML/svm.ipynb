{
 "cells": [
  {
   "cell_type": "markdown",
   "metadata": {},
   "source": [
    "# BioML: Model Training Experiment - SVM\n",
    "\n",
    "Computational Identification of Protein Phosphorylation Sites"
   ]
  },
  {
   "cell_type": "code",
   "execution_count": 12,
   "metadata": {},
   "outputs": [],
   "source": [
    "import sys\n",
    "import os\n",
    "\n",
    "# To import lib from grandparent directory\n",
    "current_dir = os.getcwd()\n",
    "grandparent_dir = os.path.abspath( os.path.join(current_dir, \"../../\") )\n",
    "sys.path.append(grandparent_dir)"
   ]
  },
  {
   "cell_type": "code",
   "execution_count": 13,
   "metadata": {},
   "outputs": [],
   "source": [
    "from lib import encoder, evaluate\n",
    "import numpy as np\n",
    "from sklearn import metrics\n",
    "from sklearn.model_selection import train_test_split\n",
    "from sklearn.svm import SVC"
   ]
  },
  {
   "cell_type": "markdown",
   "metadata": {},
   "source": [
    "### Hyperparameters"
   ]
  },
  {
   "cell_type": "code",
   "execution_count": 14,
   "metadata": {},
   "outputs": [],
   "source": [
    "train_test_split_test_size = 0.2"
   ]
  },
  {
   "cell_type": "markdown",
   "metadata": {},
   "source": [
    "### Loading data"
   ]
  },
  {
   "cell_type": "code",
   "execution_count": 15,
   "metadata": {},
   "outputs": [],
   "source": [
    "Seqs = encoder.Encoder(\"../../dataset/31mer/test/positive_cd_hit50.test.fasta\",\n",
    "                       \"../../dataset/31mer/test/negative_cd_hit50.test.fasta\",\n",
    "                       balance=True, upsample=True)\n",
    "# Seqs = encoder.Encoder(\"../../dataset/31mer/provided_by_TA/positive_clustered_sequences.fasta\",\n",
    "#                        \"../../dataset/31mer/provided_by_TA/negative_clustered_sequences.fasta\",\n",
    "#                        balance=True, upsample=True)"
   ]
  },
  {
   "cell_type": "markdown",
   "metadata": {},
   "source": [
    "### Encoding"
   ]
  },
  {
   "cell_type": "code",
   "execution_count": 16,
   "metadata": {},
   "outputs": [
    {
     "name": "stdout",
     "output_type": "stream",
     "text": [
      "(100, 31, 20) (100,)\n"
     ]
    }
   ],
   "source": [
    "posOneHot, negOneHot = Seqs.ToOneHot()\n",
    "\n",
    "X_data, y_data = encoder.GetLebel(posOneHot, negOneHot)\n",
    "X_data = np.array(X_data)\n",
    "y_data = np.array(y_data)\n",
    "print(X_data.shape, y_data.shape)"
   ]
  },
  {
   "cell_type": "markdown",
   "metadata": {},
   "source": [
    "### Train-test Split"
   ]
  },
  {
   "cell_type": "code",
   "execution_count": 17,
   "metadata": {},
   "outputs": [
    {
     "name": "stdout",
     "output_type": "stream",
     "text": [
      "(80, 31, 20) (80,) (20, 31, 20) (20,)\n",
      "(80, 620) (80,) (20, 620) (20,)\n"
     ]
    }
   ],
   "source": [
    "X_train, X_test, y_train, y_test = train_test_split(X_data, y_data, test_size=train_test_split_test_size, random_state=87)\n",
    "print(X_train.shape, y_train.shape, X_test.shape, y_test.shape)\n",
    "X_train = X_train.reshape(X_train.shape[0], -1)\n",
    "X_test = X_test.reshape(X_test.shape[0], -1)\n",
    "print(X_train.shape, y_train.shape, X_test.shape, y_test.shape)"
   ]
  },
  {
   "cell_type": "code",
   "execution_count": 18,
   "metadata": {},
   "outputs": [],
   "source": [
    "model = SVC(probability=True).fit(X_train, y_train)"
   ]
  },
  {
   "cell_type": "code",
   "execution_count": 20,
   "metadata": {},
   "outputs": [
    {
     "data": {
      "image/png": "[encoded data removed]",
      "text/plain": [
       "<Figure size 640x480 with 1 Axes>"
      ]
     },
     "metadata": {},
     "output_type": "display_data"
    },
    {
     "name": "stdout",
     "output_type": "stream",
     "text": [
      "Best threshold: 0.5604285215189833\n",
      "Accuracy: 0.5\n",
      "Classification report:\n",
      "              precision    recall  f1-score   support\n",
      "\n",
      "           0       0.47      1.00      0.64         9\n",
      "           1       1.00      0.09      0.17        11\n",
      "\n",
      "    accuracy                           0.50        20\n",
      "   macro avg       0.74      0.55      0.40        20\n",
      "weighted avg       0.76      0.50      0.38        20\n",
      "\n",
      "Confusion matrix:\n",
      "[[ 9  0]\n",
      " [10  1]]\n"
     ]
    }
   ],
   "source": [
    "y_pred = model.predict(X_test)\n",
    "y_proba = model.predict_proba(X_test)[:, 0]\n",
    "evaluate.Evaluation(y_test, y_proba)"
   ]
  }
 ],
 "metadata": {
  "kernelspec": {
   "display_name": "tfenv",
   "language": "python",
   "name": "python3"
  },
  "language_info": {
   "codemirror_mode": {
    "name": "ipython",
    "version": 3
   },
   "file_extension": ".py",
   "mimetype": "text/x-python",
   "name": "python",
   "nbconvert_exporter": "python",
   "pygments_lexer": "ipython3",
   "version": "3.10.13"
  }
 },
 "nbformat": 4,
 "nbformat_minor": 2
}
