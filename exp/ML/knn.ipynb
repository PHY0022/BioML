{
 "cells": [
  {
   "cell_type": "markdown",
   "metadata": {},
   "source": [
    "# BioML: Model Training Experiment - KNN\n",
    "\n",
    "Computational Identification of Protein Phosphorylation Sites"
   ]
  },
  {
   "cell_type": "code",
   "execution_count": 6,
   "metadata": {},
   "outputs": [],
   "source": [
    "import sys\n",
    "import os\n",
    "\n",
    "# To import lib from grandparent directory\n",
    "current_dir = os.getcwd()\n",
    "grandparent_dir = os.path.abspath(os.path.join(current_dir, \"../../\"))\n",
    "sys.path.append(grandparent_dir)"
   ]
  },
  {
   "cell_type": "code",
   "execution_count": 7,
   "metadata": {},
   "outputs": [],
   "source": [
    "from lib import encoder, evaluate\n",
    "import numpy as np\n",
    "from sklearn import metrics\n",
    "from sklearn.neighbors import KNeighborsClassifier\n",
    "from sklearn.model_selection import train_test_split"
   ]
  },
  {
   "cell_type": "markdown",
   "metadata": {},
   "source": [
    "### Hyperparameters"
   ]
  },
  {
   "cell_type": "code",
   "execution_count": 8,
   "metadata": {},
   "outputs": [],
   "source": [
    "k = 3\n",
    "train_test_split_test_size = 0.2"
   ]
  },
  {
   "cell_type": "markdown",
   "metadata": {},
   "source": [
    "### Loading data"
   ]
  },
  {
   "cell_type": "code",
   "execution_count": 9,
   "metadata": {},
   "outputs": [],
   "source": [
    "# Seqs = encoder.Encoder(\"../../dataset/31mer/test/positive_cd_hit50.test.fasta\",\n",
    "#                        \"../../dataset/31mer/test/negative_cd_hit50.test.fasta\",\n",
    "#                        balance=True, upsample=True)\n",
    "Seqs = encoder.Encoder(\"../../dataset/31mer/provided_by_TA/positive_clustered_sequences.fasta\",\n",
    "                       \"../../dataset/31mer/provided_by_TA/negative_clustered_sequences.fasta\",\n",
    "                       balance=True, upsample=True)"
   ]
  },
  {
   "cell_type": "markdown",
   "metadata": {},
   "source": [
    "### Encoding"
   ]
  },
  {
   "cell_type": "code",
   "execution_count": 10,
   "metadata": {},
   "outputs": [
    {
     "name": "stdout",
     "output_type": "stream",
     "text": [
      "(65325, 31, 20) (65325,)\n"
     ]
    }
   ],
   "source": [
    "posOneHot, negOneHot = Seqs.ToOneHot()\n",
    "\n",
    "X_data, y_data = encoder.GetLebel(posOneHot, negOneHot)\n",
    "X_data = np.array(X_data)\n",
    "y_data = np.array(y_data)\n",
    "print(X_data.shape, y_data.shape)"
   ]
  },
  {
   "cell_type": "markdown",
   "metadata": {},
   "source": [
    "### Train-test Split"
   ]
  },
  {
   "cell_type": "code",
   "execution_count": 11,
   "metadata": {},
   "outputs": [
    {
     "name": "stdout",
     "output_type": "stream",
     "text": [
      "(52260, 31, 20) (52260,) (13065, 31, 20) (13065,)\n",
      "(52260, 620) (52260,) (13065, 620) (13065,)\n"
     ]
    }
   ],
   "source": [
    "X_train, X_test, y_train, y_test = train_test_split(X_data, y_data, test_size=train_test_split_test_size, random_state=87)\n",
    "print(X_train.shape, y_train.shape, X_test.shape, y_test.shape)\n",
    "X_train = X_train.reshape(X_train.shape[0], -1)\n",
    "X_test = X_test.reshape(X_test.shape[0], -1)\n",
    "print(X_train.shape, y_train.shape, X_test.shape, y_test.shape)"
   ]
  },
  {
   "cell_type": "code",
   "execution_count": 12,
   "metadata": {},
   "outputs": [],
   "source": [
    "model = KNeighborsClassifier(n_neighbors=k).fit(X_train, y_train)"
   ]
  },
  {
   "cell_type": "code",
   "execution_count": 13,
   "metadata": {},
   "outputs": [
    {
     "data": {
      "image/png": "[encoded data removed]",
      "text/plain": [
       "<Figure size 640x480 with 1 Axes>"
      ]
     },
     "metadata": {},
     "output_type": "display_data"
    },
    {
     "name": "stdout",
     "output_type": "stream",
     "text": [
      "Best threshold: 0.6666666666666666\n",
      "Accuracy: 0.42265595101416\n",
      "Classification report:\n",
      "              precision    recall  f1-score   support\n",
      "\n",
      "           0       0.52      0.66      0.58      7894\n",
      "           1       0.10      0.06      0.07      5171\n",
      "\n",
      "    accuracy                           0.42     13065\n",
      "   macro avg       0.31      0.36      0.33     13065\n",
      "weighted avg       0.35      0.42      0.38     13065\n",
      "\n",
      "Confusion matrix:\n",
      "[[5222 2672]\n",
      " [4871  300]]\n"
     ]
    }
   ],
   "source": [
    "y_pred = model.predict(X_test)\n",
    "y_proba = model.predict_proba(X_test)[:, 0]\n",
    "evaluate.Evaluation(y_test, y_proba)"
   ]
  },
  {
   "cell_type": "code",
   "execution_count": 4,
   "metadata": {},
   "outputs": [
    {
     "data": {
      "text/plain": [
       "{'category': 'observable',\n",
       " 'correlation_coefficients': {'BUNA790102': '0.949'},\n",
       " 'description': 'alpha-CH chemical shifts (Andersen et al., 1992)',\n",
       " 'notes': '',\n",
       " 'pmid': '1575719',\n",
       " 'references': \"Andersen, N.H., Cao, B. and Chen, C. 'Peptide/protein structure analysis using the chemical shift index method: upfield alpha-CH values reveal dynamic helices and aL sites' Biochem. and Biophys. Res. Comm. 184, 1008-1014 (1992)\",\n",
       " 'values': {'-': 0,\n",
       "  'A': 4.35,\n",
       "  'C': 4.65,\n",
       "  'D': 4.76,\n",
       "  'E': 4.29,\n",
       "  'F': 4.66,\n",
       "  'G': 3.97,\n",
       "  'H': 4.63,\n",
       "  'I': 3.95,\n",
       "  'K': 4.36,\n",
       "  'L': 4.17,\n",
       "  'M': 4.52,\n",
       "  'N': 4.75,\n",
       "  'P': 4.44,\n",
       "  'Q': 4.37,\n",
       "  'R': 4.38,\n",
       "  'S': 4.5,\n",
       "  'T': 4.35,\n",
       "  'V': 3.95,\n",
       "  'W': 4.7,\n",
       "  'Y': 4.6}}"
      ]
     },
     "execution_count": 4,
     "metadata": {},
     "output_type": "execute_result"
    }
   ],
   "source": [
    "from aaindex import aaindex1\n",
    "\n",
    "indices = aaindex1.record_codes()\n",
    "aaindex1[indices[0]]"
   ]
  }
 ],
 "metadata": {
  "kernelspec": {
   "display_name": "tfenv",
   "language": "python",
   "name": "python3"
  },
  "language_info": {
   "codemirror_mode": {
    "name": "ipython",
    "version": 3
   },
   "file_extension": ".py",
   "mimetype": "text/x-python",
   "name": "python",
   "nbconvert_exporter": "python",
   "pygments_lexer": "ipython3",
   "version": "3.10.13"
  }
 },
 "nbformat": 4,
 "nbformat_minor": 2
}
